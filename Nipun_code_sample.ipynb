{
 "cells": [
  {
   "cell_type": "markdown",
   "metadata": {},
   "source": [
    "# Objectives:\n",
    "    \n",
    "    1. Build a PySpark machine learning model  (logistic regression model) using EMR (Elastic MapReduce) notebook\n",
    "    on AWS (Amazon Web Services).\n",
    "    \n",
    "    2. Perform feature engineering and balance the Amazon customer reviews dataset.\n",
    "    \n",
    "    3. Build a pipeline to perform different tasks in feature engineering such as Tokenizing and OneHot Encoding.\n",
    "    \n",
    "    4. Finding the Optimal parameters (regParam and elasticNetParam) for the machine learning model using 3-fold   cross-validated grid search on an EMR cluster with 8m5.xlarge EC2 instances.\n",
    "    "
   ]
  },
  {
   "cell_type": "code",
   "execution_count": 1,
   "metadata": {},
   "outputs": [
    {
     "data": {
      "application/vnd.jupyter.widget-view+json": {
       "model_id": "bcb0b069503a4cc088650d57b4d2125a",
       "version_major": 2,
       "version_minor": 0
      },
      "text/plain": [
       "VBox()"
      ]
     },
     "metadata": {},
     "output_type": "display_data"
    },
    {
     "name": "stdout",
     "output_type": "stream",
     "text": [
      "Starting Spark application\n"
     ]
    },
    {
     "data": {
      "text/html": [
       "<table>\n",
       "<tr><th>ID</th><th>YARN Application ID</th><th>Kind</th><th>State</th><th>Spark UI</th><th>Driver log</th><th>Current session?</th></tr><tr><td>1</td><td>application_1591325508555_0002</td><td>pyspark</td><td>idle</td><td><a target=\"_blank\" href=\"http://ip-172-31-25-150.ec2.internal:20888/proxy/application_1591325508555_0002/\">Link</a></td><td><a target=\"_blank\" href=\"http://ip-172-31-23-220.ec2.internal:8042/node/containerlogs/container_1591325508555_0002_01_000001/livy\">Link</a></td><td>✔</td></tr></table>"
      ],
      "text/plain": [
       "<IPython.core.display.HTML object>"
      ]
     },
     "metadata": {},
     "output_type": "display_data"
    },
    {
     "data": {
      "application/vnd.jupyter.widget-view+json": {
       "model_id": "",
       "version_major": 2,
       "version_minor": 0
      },
      "text/plain": [
       "FloatProgress(value=0.0, bar_style='info', description='Progress:', layout=Layout(height='25px', width='50%'),…"
      ]
     },
     "metadata": {},
     "output_type": "display_data"
    },
    {
     "name": "stdout",
     "output_type": "stream",
     "text": [
      "SparkSession available as 'spark'.\n"
     ]
    },
    {
     "data": {
      "application/vnd.jupyter.widget-view+json": {
       "model_id": "",
       "version_major": 2,
       "version_minor": 0
      },
      "text/plain": [
       "FloatProgress(value=0.0, bar_style='info', description='Progress:', layout=Layout(height='25px', width='50%'),…"
      ]
     },
     "metadata": {},
     "output_type": "display_data"
    }
   ],
   "source": [
    "# EMR (Elastic MapReduce) notebook to run PySpark framework on AWS"
   ]
  },
  {
   "cell_type": "markdown",
   "metadata": {},
   "source": [
    "## Setting up the notebook and preparing the dataset"
   ]
  },
  {
   "cell_type": "markdown",
   "metadata": {},
   "source": [
    "**Dataset: Amazon Customer Reviews/Product Reviews**\n",
    "    \n",
    "It features million reviews for different products sold on Amazon marketplace. The reviews that have been contributed by millions of buyers expresses their opinions and experiences about the product’s quality, their buying experience, etc. The different variables in the dataset are: ‘customer_id’, ‘review_id’, ‘product_id’, ‘star_rating’, ‘total_votes’, ‘vine’, ‘verified_purchase’ and ‘review_date’ among others."
   ]
  },
  {
   "cell_type": "markdown",
   "metadata": {},
   "source": [
    "**Load Amazon Customer Reviews Dataset**"
   ]
  },
  {
   "cell_type": "code",
   "execution_count": 2,
   "metadata": {},
   "outputs": [
    {
     "name": "stdout",
     "output_type": "stream",
     "text": [
      "2018-04-09 06:35:58    1.0 GiB part-00000-495c48e6-96d6-4650-aa65-3c36a3516ddd.c000.snappy.parquet\n",
      "2018-04-09 06:35:59    1.0 GiB part-00001-495c48e6-96d6-4650-aa65-3c36a3516ddd.c000.snappy.parquet\n",
      "2018-04-09 06:36:00    1.0 GiB part-00002-495c48e6-96d6-4650-aa65-3c36a3516ddd.c000.snappy.parquet\n",
      "2018-04-09 06:36:00    1.0 GiB part-00003-495c48e6-96d6-4650-aa65-3c36a3516ddd.c000.snappy.parquet\n",
      "2018-04-09 06:36:00    1.0 GiB part-00004-495c48e6-96d6-4650-aa65-3c36a3516ddd.c000.snappy.parquet\n",
      "2018-04-09 06:36:33    1.0 GiB part-00005-495c48e6-96d6-4650-aa65-3c36a3516ddd.c000.snappy.parquet\n",
      "2018-04-09 06:36:35    1.0 GiB part-00006-495c48e6-96d6-4650-aa65-3c36a3516ddd.c000.snappy.parquet\n",
      "2018-04-09 06:36:35    1.0 GiB part-00007-495c48e6-96d6-4650-aa65-3c36a3516ddd.c000.snappy.parquet\n",
      "2018-04-09 06:36:35    1.0 GiB part-00008-495c48e6-96d6-4650-aa65-3c36a3516ddd.c000.snappy.parquet\n",
      "2018-04-09 06:36:35    1.0 GiB part-00009-495c48e6-96d6-4650-aa65-3c36a3516ddd.c000.snappy.parquet\n",
      "\n",
      "Total Objects: 10\n",
      "   Total Size: 10.2 GiB\n"
     ]
    }
   ],
   "source": [
    "%%bash\n",
    "aws s3 ls s3://amazon-reviews-pds/parquet/product_category=Books/ --summarize --human-readable"
   ]
  },
  {
   "cell_type": "markdown",
   "metadata": {},
   "source": [
    "**Install packages in PySpark framework**"
   ]
  },
  {
   "cell_type": "code",
   "execution_count": 3,
   "metadata": {},
   "outputs": [
    {
     "data": {
      "application/vnd.jupyter.widget-view+json": {
       "model_id": "27217b671bdf4b05974dba82daecb537",
       "version_major": 2,
       "version_minor": 0
      },
      "text/plain": [
       "VBox()"
      ]
     },
     "metadata": {},
     "output_type": "display_data"
    },
    {
     "data": {
      "application/vnd.jupyter.widget-view+json": {
       "model_id": "",
       "version_major": 2,
       "version_minor": 0
      },
      "text/plain": [
       "FloatProgress(value=0.0, bar_style='info', description='Progress:', layout=Layout(height='25px', width='50%'),…"
      ]
     },
     "metadata": {},
     "output_type": "display_data"
    },
    {
     "name": "stdout",
     "output_type": "stream",
     "text": [
      "Collecting seaborn\n",
      "  Using cached https://files.pythonhosted.org/packages/c7/e6/54aaaafd0b87f51dfba92ba73da94151aa3bc179e5fe88fc5dfb3038e860/seaborn-0.10.1-py3-none-any.whl\n",
      "Collecting pandas>=0.22.0 (from seaborn)\n",
      "  Using cached https://files.pythonhosted.org/packages/a4/5f/1b6e0efab4bfb738478919d40b0e3e1a06e3d9996da45eb62a77e9a090d9/pandas-1.0.4-cp37-cp37m-manylinux1_x86_64.whl\n",
      "Requirement already satisfied: numpy>=1.13.3 in /usr/local/lib64/python3.7/site-packages (from seaborn)\n",
      "Collecting scipy>=1.0.1 (from seaborn)\n",
      "  Using cached https://files.pythonhosted.org/packages/dd/82/c1fe128f3526b128cfd185580ba40d01371c5d299fcf7f77968e22dfcc2e/scipy-1.4.1-cp37-cp37m-manylinux1_x86_64.whl\n",
      "Collecting matplotlib>=2.1.2 (from seaborn)\n",
      "  Using cached https://files.pythonhosted.org/packages/b2/c2/71fcf957710f3ba1f09088b35776a799ba7dd95f7c2b195ec800933b276b/matplotlib-3.2.1-cp37-cp37m-manylinux1_x86_64.whl\n",
      "Requirement already satisfied: pytz>=2017.2 in /usr/local/lib/python3.7/site-packages (from pandas>=0.22.0->seaborn)\n",
      "Collecting python-dateutil>=2.6.1 (from pandas>=0.22.0->seaborn)\n",
      "  Using cached https://files.pythonhosted.org/packages/d4/70/d60450c3dd48ef87586924207ae8907090de0b306af2bce5d134d78615cb/python_dateutil-2.8.1-py2.py3-none-any.whl\n",
      "Collecting pyparsing!=2.0.4,!=2.1.2,!=2.1.6,>=2.0.1 (from matplotlib>=2.1.2->seaborn)\n",
      "  Using cached https://files.pythonhosted.org/packages/8a/bb/488841f56197b13700afd5658fc279a2025a39e22449b7cf29864669b15d/pyparsing-2.4.7-py2.py3-none-any.whl\n",
      "Collecting cycler>=0.10 (from matplotlib>=2.1.2->seaborn)\n",
      "  Using cached https://files.pythonhosted.org/packages/f7/d2/e07d3ebb2bd7af696440ce7e754c59dd546ffe1bbe732c8ab68b9c834e61/cycler-0.10.0-py2.py3-none-any.whl\n",
      "Collecting kiwisolver>=1.0.1 (from matplotlib>=2.1.2->seaborn)\n",
      "  Using cached https://files.pythonhosted.org/packages/31/b9/6202dcae729998a0ade30e80ac00f616542ef445b088ec970d407dfd41c0/kiwisolver-1.2.0-cp37-cp37m-manylinux1_x86_64.whl\n",
      "Requirement already satisfied: six>=1.5 in /usr/local/lib/python3.7/site-packages (from python-dateutil>=2.6.1->pandas>=0.22.0->seaborn)\n",
      "Installing collected packages: python-dateutil, pandas, scipy, pyparsing, cycler, kiwisolver, matplotlib, seaborn\n",
      "Successfully installed cycler-0.10.0 kiwisolver-1.2.0 matplotlib-3.2.1 pandas-1.0.4 pyparsing-2.4.7 python-dateutil-2.8.1 scipy-1.4.1 seaborn-0.10.1\n",
      "\n",
      "Requirement already satisfied: pandas in /mnt/tmp/1591330261693-0/lib/python3.7/site-packages\n",
      "Requirement already satisfied: pytz>=2017.2 in /usr/local/lib/python3.7/site-packages (from pandas)\n",
      "Requirement already satisfied: numpy>=1.13.3 in /usr/local/lib64/python3.7/site-packages (from pandas)\n",
      "Requirement already satisfied: python-dateutil>=2.6.1 in /mnt/tmp/1591330261693-0/lib/python3.7/site-packages (from pandas)\n",
      "Requirement already satisfied: six>=1.5 in /usr/local/lib/python3.7/site-packages (from python-dateutil>=2.6.1->pandas)"
     ]
    }
   ],
   "source": [
    "sc.install_pypi_package(\"seaborn\")\n",
    "sc.install_pypi_package(\"pandas\")"
   ]
  },
  {
   "cell_type": "markdown",
   "metadata": {},
   "source": [
    "**Importing packages and reading the dataset**"
   ]
  },
  {
   "cell_type": "code",
   "execution_count": 4,
   "metadata": {},
   "outputs": [
    {
     "data": {
      "application/vnd.jupyter.widget-view+json": {
       "model_id": "77f991505b854a9e8c4100e376b25056",
       "version_major": 2,
       "version_minor": 0
      },
      "text/plain": [
       "VBox()"
      ]
     },
     "metadata": {},
     "output_type": "display_data"
    },
    {
     "data": {
      "application/vnd.jupyter.widget-view+json": {
       "model_id": "",
       "version_major": 2,
       "version_minor": 0
      },
      "text/plain": [
       "FloatProgress(value=0.0, bar_style='info', description='Progress:', layout=Layout(height='25px', width='50%'),…"
      ]
     },
     "metadata": {},
     "output_type": "display_data"
    }
   ],
   "source": [
    "import seaborn as sns\n",
    "import matplotlib.pyplot as plt\n",
    "from pyspark.ml import Pipeline\n",
    "from pyspark.ml.feature import StringIndexer\n",
    "from pyspark.sql.functions import regexp_replace\n",
    "from pyspark.ml.feature import Tokenizer\n",
    "from pyspark.ml.feature import StopWordsRemover\n",
    "from pyspark.ml.feature import HashingTF\n",
    "from pyspark.ml.feature import IDF\n",
    "from pyspark.ml.feature import OneHotEncoderEstimator\n",
    "from pyspark.ml.feature import VectorAssembler\n",
    "from pyspark.ml.classification import LogisticRegression\n",
    "from pyspark.ml.tuning import CrossValidator\n",
    "from pyspark.ml.tuning import ParamGridBuilder\n",
    "from pyspark.ml.evaluation import BinaryClassificationEvaluator\n",
    "import numpy as np\n",
    "import time"
   ]
  },
  {
   "cell_type": "code",
   "execution_count": 5,
   "metadata": {},
   "outputs": [
    {
     "data": {
      "application/vnd.jupyter.widget-view+json": {
       "model_id": "22457e9e7b7b446a82bbc094893c6b10",
       "version_major": 2,
       "version_minor": 0
      },
      "text/plain": [
       "VBox()"
      ]
     },
     "metadata": {},
     "output_type": "display_data"
    },
    {
     "data": {
      "application/vnd.jupyter.widget-view+json": {
       "model_id": "",
       "version_major": 2,
       "version_minor": 0
      },
      "text/plain": [
       "FloatProgress(value=0.0, bar_style='info', description='Progress:', layout=Layout(height='25px', width='50%'),…"
      ]
     },
     "metadata": {},
     "output_type": "display_data"
    }
   ],
   "source": [
    "data = spark.read.parquet('s3://amazon-reviews-pds/parquet/product_category=Books/*.parquet')"
   ]
  },
  {
   "cell_type": "markdown",
   "metadata": {},
   "source": [
    "**Dropping NA values and creating a categorical variable (binary) for good/bad reviews**"
   ]
  },
  {
   "cell_type": "code",
   "execution_count": 6,
   "metadata": {},
   "outputs": [
    {
     "data": {
      "application/vnd.jupyter.widget-view+json": {
       "model_id": "12d35931b1b5445db6cf21209da01dfb",
       "version_major": 2,
       "version_minor": 0
      },
      "text/plain": [
       "VBox()"
      ]
     },
     "metadata": {},
     "output_type": "display_data"
    },
    {
     "data": {
      "application/vnd.jupyter.widget-view+json": {
       "model_id": "",
       "version_major": 2,
       "version_minor": 0
      },
      "text/plain": [
       "FloatProgress(value=0.0, bar_style='info', description='Progress:', layout=Layout(height='25px', width='50%'),…"
      ]
     },
     "metadata": {},
     "output_type": "display_data"
    },
    {
     "name": "stdout",
     "output_type": "stream",
     "text": [
      "+-----------+-----------+\n",
      "|star_rating|good_review|\n",
      "+-----------+-----------+\n",
      "|          5|          1|\n",
      "|          4|          1|\n",
      "|          4|          1|\n",
      "|          5|          1|\n",
      "|          5|          1|\n",
      "+-----------+-----------+\n",
      "only showing top 5 rows\n",
      "\n",
      "+-----------+--------+\n",
      "|good_review|   count|\n",
      "+-----------+--------+\n",
      "|          1|17208252|\n",
      "|          0| 3517653|\n",
      "+-----------+--------+"
     ]
    }
   ],
   "source": [
    "data=data.dropna('any')\n",
    "\n",
    "# Good == 1, Bad == 0 (cast as integers so that pyspark.ml can understand them)\n",
    "data = data.withColumn('good_review', (data.star_rating >= 4).cast(\"integer\"))\n",
    "\n",
    "# Check to make sure new column is capturing star_rating correctly\n",
    "data[['star_rating', 'good_review']].show(5)\n",
    "\n",
    "# Take a look at how many good and bad reviews we have, respectively\n",
    "(data.groupBy('good_review')\n",
    "     .count()\n",
    "     .show()\n",
    ")"
   ]
  },
  {
   "cell_type": "markdown",
   "metadata": {},
   "source": [
    "# 1. Visualising Feature Importance"
   ]
  },
  {
   "cell_type": "code",
   "execution_count": 7,
   "metadata": {},
   "outputs": [
    {
     "data": {
      "application/vnd.jupyter.widget-view+json": {
       "model_id": "5bee54de58254504ab4ca9e0844ace06",
       "version_major": 2,
       "version_minor": 0
      },
      "text/plain": [
       "VBox()"
      ]
     },
     "metadata": {},
     "output_type": "display_data"
    },
    {
     "data": {
      "application/vnd.jupyter.widget-view+json": {
       "model_id": "",
       "version_major": 2,
       "version_minor": 0
      },
      "text/plain": [
       "FloatProgress(value=0.0, bar_style='info', description='Progress:', layout=Layout(height='25px', width='50%'),…"
      ]
     },
     "metadata": {},
     "output_type": "display_data"
    }
   ],
   "source": [
    "#question 1"
   ]
  },
  {
   "cell_type": "markdown",
   "metadata": {},
   "source": [
    "*Feature Engineering part is presented with Question 3. Below, I have attached table/plots depicting feature importance:*"
   ]
  },
  {
   "cell_type": "markdown",
   "metadata": {},
   "source": [
    "**Helpful votes is a numerical variable and below one can observe the variation in number of good reviews with the number of helpful votes.**"
   ]
  },
  {
   "cell_type": "code",
   "execution_count": 8,
   "metadata": {},
   "outputs": [
    {
     "data": {
      "application/vnd.jupyter.widget-view+json": {
       "model_id": "fd7908b6177a4924bb66ac4af6b55d7a",
       "version_major": 2,
       "version_minor": 0
      },
      "text/plain": [
       "VBox()"
      ]
     },
     "metadata": {},
     "output_type": "display_data"
    },
    {
     "data": {
      "application/vnd.jupyter.widget-view+json": {
       "model_id": "",
       "version_major": 2,
       "version_minor": 0
      },
      "text/plain": [
       "FloatProgress(value=0.0, bar_style='info', description='Progress:', layout=Layout(height='25px', width='50%'),…"
      ]
     },
     "metadata": {},
     "output_type": "display_data"
    },
    {
     "name": "stdout",
     "output_type": "stream",
     "text": [
      "+-----------+-------------+-------+\n",
      "|good_review|helpful_votes|  count|\n",
      "+-----------+-------------+-------+\n",
      "|          0|           57|   1382|\n",
      "|          0|          145|    103|\n",
      "|          1|          204|     89|\n",
      "|          0|          243|     31|\n",
      "|          1|          213|     77|\n",
      "|          0|          261|     24|\n",
      "|          1|           20|  33969|\n",
      "|          0|           48|   2228|\n",
      "|          0|           14|  32261|\n",
      "|          0|          246|     27|\n",
      "|          0|          133|    167|\n",
      "|          1|            9| 159286|\n",
      "|          0|            5| 147887|\n",
      "|          0|           90|    408|\n",
      "|          0|          850|      1|\n",
      "|          1|            1|3232853|\n",
      "|          1|          175|    158|\n",
      "|          1|           97|    700|\n",
      "|          0|          812|      2|\n",
      "|          0|         1209|      1|\n",
      "+-----------+-------------+-------+\n",
      "only showing top 20 rows"
     ]
    }
   ],
   "source": [
    "(data.groupBy('good_review', 'helpful_votes').count().show())"
   ]
  },
  {
   "cell_type": "markdown",
   "metadata": {},
   "source": [
    "**Next numerical variable is 'year'. The plot shows the varying trend in the number of good reviews across different years. The recent jump in the number of good reviews shows its relevance for the model.**"
   ]
  },
  {
   "cell_type": "code",
   "execution_count": 9,
   "metadata": {},
   "outputs": [
    {
     "data": {
      "application/vnd.jupyter.widget-view+json": {
       "model_id": "6c1a74d0c7bb4f8081de3b5184f67c14",
       "version_major": 2,
       "version_minor": 0
      },
      "text/plain": [
       "VBox()"
      ]
     },
     "metadata": {},
     "output_type": "display_data"
    },
    {
     "data": {
      "application/vnd.jupyter.widget-view+json": {
       "model_id": "",
       "version_major": 2,
       "version_minor": 0
      },
      "text/plain": [
       "FloatProgress(value=0.0, bar_style='info', description='Progress:', layout=Layout(height='25px', width='50%'),…"
      ]
     },
     "metadata": {},
     "output_type": "display_data"
    },
    {
     "data": {
      "image/png": "[encoded data removed]",
      "text/plain": [
       "<IPython.core.display.Image object>"
      ]
     },
     "metadata": {},
     "output_type": "display_data"
    }
   ],
   "source": [
    "plt.close()\n",
    "data_yr = (data.groupBy('good_review', 'year').count()).toPandas()\n",
    "sns.lineplot(x='year',y='count', hue='good_review',data = data_yr)\n",
    "%matplot plt "
   ]
  },
  {
   "cell_type": "code",
   "execution_count": 10,
   "metadata": {},
   "outputs": [
    {
     "data": {
      "application/vnd.jupyter.widget-view+json": {
       "model_id": "8e7f0b1282084d439a07ed2d5d560c95",
       "version_major": 2,
       "version_minor": 0
      },
      "text/plain": [
       "VBox()"
      ]
     },
     "metadata": {},
     "output_type": "display_data"
    },
    {
     "data": {
      "application/vnd.jupyter.widget-view+json": {
       "model_id": "",
       "version_major": 2,
       "version_minor": 0
      },
      "text/plain": [
       "FloatProgress(value=0.0, bar_style='info', description='Progress:', layout=Layout(height='25px', width='50%'),…"
      ]
     },
     "metadata": {},
     "output_type": "display_data"
    },
    {
     "name": "stdout",
     "output_type": "stream",
     "text": [
      "+-----------+-----------------+-------+\n",
      "|good_review|verified_purchase|  count|\n",
      "+-----------+-----------------+-------+\n",
      "|          0|                Y|1488413|\n",
      "|          0|                N|2029240|\n",
      "|          1|                N|8106766|\n",
      "|          1|                Y|9101486|\n",
      "+-----------+-----------------+-------+"
     ]
    }
   ],
   "source": [
    "(data.groupBy('good_review', 'verified_purchase').count().show())"
   ]
  },
  {
   "cell_type": "markdown",
   "metadata": {},
   "source": [
    "**'verified_purchase' is a categorical variable, and it would be interesting to find its effect in the model. Intuitively, verified  purchases should have a positive impact on the number of good reviews.**"
   ]
  },
  {
   "cell_type": "code",
   "execution_count": 11,
   "metadata": {},
   "outputs": [
    {
     "data": {
      "application/vnd.jupyter.widget-view+json": {
       "model_id": "189c9f984b4c40d682b2684db1756856",
       "version_major": 2,
       "version_minor": 0
      },
      "text/plain": [
       "VBox()"
      ]
     },
     "metadata": {},
     "output_type": "display_data"
    },
    {
     "data": {
      "application/vnd.jupyter.widget-view+json": {
       "model_id": "",
       "version_major": 2,
       "version_minor": 0
      },
      "text/plain": [
       "FloatProgress(value=0.0, bar_style='info', description='Progress:', layout=Layout(height='25px', width='50%'),…"
      ]
     },
     "metadata": {},
     "output_type": "display_data"
    },
    {
     "name": "stdout",
     "output_type": "stream",
     "text": [
      "+-----------+--------------------+-----+\n",
      "|good_review|       product_title|count|\n",
      "+-----------+--------------------+-----+\n",
      "|          1|!!! A Fine Collec...|    3|\n",
      "|          1|!!Dale a LA Grama...|    1|\n",
      "|          1|!!Dale a LA Grama...|    1|\n",
      "|          1|!!Vamos Al Circo!...|    1|\n",
      "|          0|!!Vamos!: Vamos -...|    1|\n",
      "|          1|!%@:: A Directory...|    1|\n",
      "|          1|!Amigas Forever! ...|    1|\n",
      "|          1|!Arriba! A First ...|    1|\n",
      "|          1|!Asi! 1 Students'...|    1|\n",
      "|          1|!Avancemos! Teach...|    1|\n",
      "|          1|!Buen viaje! Leve...|    2|\n",
      "|          1|!Buen viaje! Leve...|    1|\n",
      "|          1|!Buen viaje!, Cou...|    2|\n",
      "|          0|!Che Boludo! A gr...|    1|\n",
      "|          1|!Che Boludo! A gr...|    7|\n",
      "|          1|!En Espanol! Unit...|    1|\n",
      "|          1|!Expresate! (Holt...|    2|\n",
      "|          1|!Fish! La Eficaci...|    3|\n",
      "|          0|!He Muerto!: Biog...|    2|\n",
      "|          1|!He Muerto!: Biog...|    1|\n",
      "+-----------+--------------------+-----+\n",
      "only showing top 20 rows"
     ]
    }
   ],
   "source": [
    "(data.groupBy('good_review', 'product_title').count().orderBy('product_title').show())"
   ]
  },
  {
   "cell_type": "markdown",
   "metadata": {},
   "source": [
    "**I am using 'product_title' as text feature in my model. Using different stages: tokenizer, remover, hasher and IDF, I will convert it into a numerical feature. I do not have any experience in NLP but looking at the table above, there's variation in the number of good reviews across titles and I believe it will contribute to our model.**\n"
   ]
  },
  {
   "cell_type": "markdown",
   "metadata": {},
   "source": [
    "# 2. Balancing the data"
   ]
  },
  {
   "cell_type": "code",
   "execution_count": 12,
   "metadata": {},
   "outputs": [
    {
     "data": {
      "application/vnd.jupyter.widget-view+json": {
       "model_id": "807be196d0cf48d7b01a18bb0abc0e7c",
       "version_major": 2,
       "version_minor": 0
      },
      "text/plain": [
       "VBox()"
      ]
     },
     "metadata": {},
     "output_type": "display_data"
    },
    {
     "data": {
      "application/vnd.jupyter.widget-view+json": {
       "model_id": "",
       "version_major": 2,
       "version_minor": 0
      },
      "text/plain": [
       "FloatProgress(value=0.0, bar_style='info', description='Progress:', layout=Layout(height='25px', width='50%'),…"
      ]
     },
     "metadata": {},
     "output_type": "display_data"
    }
   ],
   "source": [
    "#question 2"
   ]
  },
  {
   "cell_type": "markdown",
   "metadata": {},
   "source": [
    "**Downsampled the data using 'sampleBy' function. As seen in the table below, the new dataset has balanced number of good and bad reviews.**"
   ]
  },
  {
   "cell_type": "code",
   "execution_count": 13,
   "metadata": {},
   "outputs": [
    {
     "data": {
      "application/vnd.jupyter.widget-view+json": {
       "model_id": "5d474d5bcab94cb8b7518b63f9d551b9",
       "version_major": 2,
       "version_minor": 0
      },
      "text/plain": [
       "VBox()"
      ]
     },
     "metadata": {},
     "output_type": "display_data"
    },
    {
     "data": {
      "application/vnd.jupyter.widget-view+json": {
       "model_id": "",
       "version_major": 2,
       "version_minor": 0
      },
      "text/plain": [
       "FloatProgress(value=0.0, bar_style='info', description='Progress:', layout=Layout(height='25px', width='50%'),…"
      ]
     },
     "metadata": {},
     "output_type": "display_data"
    },
    {
     "name": "stdout",
     "output_type": "stream",
     "text": [
      "+-----------+-------+\n",
      "|good_review|  count|\n",
      "+-----------+-------+\n",
      "|          0|3517653|\n",
      "|          1|3516830|\n",
      "+-----------+-------+"
     ]
    }
   ],
   "source": [
    "from pyspark.sql.functions import col\n",
    "\n",
    "ratio = 3517653/17208252\n",
    "sample = data.sampleBy(\"good_review\", fractions={0: 1, 1: ratio}, seed=0)\n",
    "sample.groupBy(\"good_review\").count().orderBy(\"good_review\").show()"
   ]
  },
  {
   "cell_type": "markdown",
   "metadata": {},
   "source": [
    "# 3. Feature Engineering and Implementing a pipeline"
   ]
  },
  {
   "cell_type": "code",
   "execution_count": 14,
   "metadata": {},
   "outputs": [
    {
     "data": {
      "application/vnd.jupyter.widget-view+json": {
       "model_id": "5a2e2036474243b7baf09c5bb7083342",
       "version_major": 2,
       "version_minor": 0
      },
      "text/plain": [
       "VBox()"
      ]
     },
     "metadata": {},
     "output_type": "display_data"
    },
    {
     "data": {
      "application/vnd.jupyter.widget-view+json": {
       "model_id": "",
       "version_major": 2,
       "version_minor": 0
      },
      "text/plain": [
       "FloatProgress(value=0.0, bar_style='info', description='Progress:', layout=Layout(height='25px', width='50%'),…"
      ]
     },
     "metadata": {},
     "output_type": "display_data"
    }
   ],
   "source": [
    "# question 3"
   ]
  },
  {
   "cell_type": "markdown",
   "metadata": {},
   "source": [
    "**Feature engineering: 'product_title'**"
   ]
  },
  {
   "cell_type": "code",
   "execution_count": 15,
   "metadata": {},
   "outputs": [
    {
     "data": {
      "application/vnd.jupyter.widget-view+json": {
       "model_id": "26807e2cf4cb4292b54412a7f0fdcbe1",
       "version_major": 2,
       "version_minor": 0
      },
      "text/plain": [
       "VBox()"
      ]
     },
     "metadata": {},
     "output_type": "display_data"
    },
    {
     "data": {
      "application/vnd.jupyter.widget-view+json": {
       "model_id": "",
       "version_major": 2,
       "version_minor": 0
      },
      "text/plain": [
       "FloatProgress(value=0.0, bar_style='info', description='Progress:', layout=Layout(height='25px', width='50%'),…"
      ]
     },
     "metadata": {},
     "output_type": "display_data"
    }
   ],
   "source": [
    "\n",
    "# Break text into tokens at non-word characters\n",
    "tokenizer = Tokenizer(inputCol=\"product_title\", outputCol=\"tokens\")\n",
    "# Remove stop words\n",
    "remover = StopWordsRemover(inputCol=tokenizer.getOutputCol(), outputCol='words')\n",
    "# Apply the hashing trick and transform to TF-IDF\n",
    "hasher = HashingTF(inputCol=remover.getOutputCol(), outputCol=\"hash\", numFeatures=32)\n",
    "idf = IDF(inputCol=hasher.getOutputCol(), outputCol=\"text_feature\")\n",
    "\n",
    "# feature engineering: 'verified_purchase'\n",
    "\n",
    "indexer = StringIndexer(inputCol='verified_purchase', outputCol='vp_idx')\n",
    "onehot = OneHotEncoderEstimator(inputCols=['vp_idx'], outputCols=['vp_dummy'])\n",
    "\n",
    "# feature engineering: Not required for 'year' and 'helpful_votes'\n",
    "\n",
    "\n",
    "assembler = VectorAssembler(inputCols = ['total_votes', 'text_feature', 'year', 'helpful_votes', 'vp_dummy'],\\\n",
    "                            outputCol = 'features')"
   ]
  },
  {
   "cell_type": "markdown",
   "metadata": {},
   "source": [
    "**Building a pipeline**"
   ]
  },
  {
   "cell_type": "code",
   "execution_count": 16,
   "metadata": {},
   "outputs": [
    {
     "data": {
      "application/vnd.jupyter.widget-view+json": {
       "model_id": "38dd169898f64156abc2a385c56184a5",
       "version_major": 2,
       "version_minor": 0
      },
      "text/plain": [
       "VBox()"
      ]
     },
     "metadata": {},
     "output_type": "display_data"
    },
    {
     "data": {
      "application/vnd.jupyter.widget-view+json": {
       "model_id": "",
       "version_major": 2,
       "version_minor": 0
      },
      "text/plain": [
       "FloatProgress(value=0.0, bar_style='info', description='Progress:', layout=Layout(height='25px', width='50%'),…"
      ]
     },
     "metadata": {},
     "output_type": "display_data"
    }
   ],
   "source": [
    "\n",
    "pipeline = Pipeline(stages=[tokenizer, remover, hasher, idf, indexer, onehot, assembler])\n",
    "pipeline = pipeline.fit(sample)\n",
    "sample = pipeline.transform(sample)\n"
   ]
  },
  {
   "cell_type": "markdown",
   "metadata": {},
   "source": [
    "**Question: (Under the hood) Is the DataFrame actually processed when one chains together a sequence of transformations in  a  pipeline?**"
   ]
  },
  {
   "cell_type": "markdown",
   "metadata": {},
   "source": [
    "**No, the dataframe is not processed when transformations are chained together in a pipeline. It can be thought of as a formula/rule with instructions/stages (to be carried when called out later). When we either 'transform' or 'fit' our data, PySpark performs the actual transformations.**"
   ]
  },
  {
   "cell_type": "markdown",
   "metadata": {},
   "source": [
    "# 4. Finding the Optimal Model Parameters"
   ]
  },
  {
   "cell_type": "code",
   "execution_count": 23,
   "metadata": {},
   "outputs": [
    {
     "data": {
      "application/vnd.jupyter.widget-view+json": {
       "model_id": "60b90971a9614b049423178d41245ed6",
       "version_major": 2,
       "version_minor": 0
      },
      "text/plain": [
       "VBox()"
      ]
     },
     "metadata": {},
     "output_type": "display_data"
    },
    {
     "data": {
      "application/vnd.jupyter.widget-view+json": {
       "model_id": "",
       "version_major": 2,
       "version_minor": 0
      },
      "text/plain": [
       "FloatProgress(value=0.0, bar_style='info', description='Progress:', layout=Layout(height='25px', width='50%'),…"
      ]
     },
     "metadata": {},
     "output_type": "display_data"
    }
   ],
   "source": [
    "#question 4"
   ]
  },
  {
   "cell_type": "markdown",
   "metadata": {},
   "source": [
    "**Parameter optimization using grid search on an EMR cluster with 8m5.xlarge EC2 instances**"
   ]
  },
  {
   "cell_type": "code",
   "execution_count": 27,
   "metadata": {},
   "outputs": [
    {
     "data": {
      "application/vnd.jupyter.widget-view+json": {
       "model_id": "8c28f63a0ec741a99ea80005bd9bfba1",
       "version_major": 2,
       "version_minor": 0
      },
      "text/plain": [
       "VBox()"
      ]
     },
     "metadata": {},
     "output_type": "display_data"
    },
    {
     "data": {
      "application/vnd.jupyter.widget-view+json": {
       "model_id": "",
       "version_major": 2,
       "version_minor": 0
      },
      "text/plain": [
       "FloatProgress(value=0.0, bar_style='info', description='Progress:', layout=Layout(height='25px', width='50%'),…"
      ]
     },
     "metadata": {},
     "output_type": "display_data"
    },
    {
     "name": "stdout",
     "output_type": "stream",
     "text": [
      "Number of models to be tested:  20"
     ]
    }
   ],
   "source": [
    "train, test = sample.randomSplit([0.7, 0.3])\n",
    "\n",
    "# Create a logistic regression object and add everything to a pipeline\n",
    "logistic = LogisticRegression(featuresCol='features', labelCol='good_review')\n",
    "\n",
    "# Create parameter grid\n",
    "params = ParamGridBuilder()\n",
    "\n",
    "# Add grids for two parameters\n",
    "params = params.addGrid(logistic.regParam, np.arange(0,0.1,0.01)) \\\n",
    "               .addGrid(logistic.elasticNetParam, [0,1])\n",
    "\n",
    "# Build the parameter grid\n",
    "params = params.build()\n",
    "print('Number of models to be tested: ', len(params))\n",
    "\n",
    "evaluator = BinaryClassificationEvaluator(labelCol='good_review', metricName='areaUnderROC')"
   ]
  },
  {
   "cell_type": "markdown",
   "metadata": {},
   "source": [
    "**Creating a cross-validator**"
   ]
  },
  {
   "cell_type": "code",
   "execution_count": 28,
   "metadata": {},
   "outputs": [
    {
     "data": {
      "application/vnd.jupyter.widget-view+json": {
       "model_id": "e255042e14bf4427b8dbbc527bbdbb3c",
       "version_major": 2,
       "version_minor": 0
      },
      "text/plain": [
       "VBox()"
      ]
     },
     "metadata": {},
     "output_type": "display_data"
    },
    {
     "data": {
      "application/vnd.jupyter.widget-view+json": {
       "model_id": "",
       "version_major": 2,
       "version_minor": 0
      },
      "text/plain": [
       "FloatProgress(value=0.0, bar_style='info', description='Progress:', layout=Layout(height='25px', width='50%'),…"
      ]
     },
     "metadata": {},
     "output_type": "display_data"
    },
    {
     "name": "stderr",
     "output_type": "stream",
     "text": [
      "Exception in thread cell_monitor-27:\n",
      "Traceback (most recent call last):\n",
      "  File \"/emr/notebook-env/lib/python3.7/threading.py\", line 926, in _bootstrap_inner\n",
      "    self.run()\n",
      "  File \"/emr/notebook-env/lib/python3.7/threading.py\", line 870, in run\n",
      "    self._target(*self._args, **self._kwargs)\n",
      "  File \"/emr/notebook-env/lib/python3.7/site-packages/awseditorssparkmonitoringwidget-1.0-py3.7.egg/awseditorssparkmonitoringwidget/cellmonitor.py\", line 178, in cell_monitor\n",
      "    job_binned_stages[job_id][stage_id] = all_stages[stage_id]\n",
      "KeyError: 1268\n",
      "\n"
     ]
    }
   ],
   "source": [
    "\n",
    "cv = CrossValidator(estimator=logistic, estimatorParamMaps=params, evaluator=evaluator, numFolds=5, seed=0)\n",
    "\n",
    "cv = cv.fit(train)"
   ]
  },
  {
   "cell_type": "markdown",
   "metadata": {},
   "source": [
    "**Extracting paramter values of the best model**"
   ]
  },
  {
   "cell_type": "code",
   "execution_count": 29,
   "metadata": {},
   "outputs": [
    {
     "data": {
      "application/vnd.jupyter.widget-view+json": {
       "model_id": "6fb55fc6b17d49d2bdcd0bdc40e84b67",
       "version_major": 2,
       "version_minor": 0
      },
      "text/plain": [
       "VBox()"
      ]
     },
     "metadata": {},
     "output_type": "display_data"
    },
    {
     "data": {
      "application/vnd.jupyter.widget-view+json": {
       "model_id": "",
       "version_major": 2,
       "version_minor": 0
      },
      "text/plain": [
       "FloatProgress(value=0.0, bar_style='info', description='Progress:', layout=Layout(height='25px', width='50%'),…"
      ]
     },
     "metadata": {},
     "output_type": "display_data"
    },
    {
     "name": "stdout",
     "output_type": "stream",
     "text": [
      "best_model: {Param(parent='LogisticRegression_36d9e4a9bafc', name='aggregationDepth', doc='suggested depth for treeAggregate (>= 2)'): 2, Param(parent='LogisticRegression_36d9e4a9bafc', name='elasticNetParam', doc='the ElasticNet mixing parameter, in range [0, 1]. For alpha = 0, the penalty is an L2 penalty. For alpha = 1, it is an L1 penalty'): 0.0, Param(parent='LogisticRegression_36d9e4a9bafc', name='family', doc='The name of family which is a description of the label distribution to be used in the model. Supported options: auto, binomial, multinomial.'): 'auto', Param(parent='LogisticRegression_36d9e4a9bafc', name='featuresCol', doc='features column name'): 'features', Param(parent='LogisticRegression_36d9e4a9bafc', name='fitIntercept', doc='whether to fit an intercept term'): True, Param(parent='LogisticRegression_36d9e4a9bafc', name='labelCol', doc='label column name'): 'good_review', Param(parent='LogisticRegression_36d9e4a9bafc', name='maxIter', doc='maximum number of iterations (>= 0)'): 100, Param(parent='LogisticRegression_36d9e4a9bafc', name='predictionCol', doc='prediction column name'): 'prediction', Param(parent='LogisticRegression_36d9e4a9bafc', name='probabilityCol', doc='Column name for predicted class conditional probabilities. Note: Not all models output well-calibrated probability estimates! These probabilities should be treated as confidences, not precise probabilities'): 'probability', Param(parent='LogisticRegression_36d9e4a9bafc', name='rawPredictionCol', doc='raw prediction (a.k.a. confidence) column name'): 'rawPrediction', Param(parent='LogisticRegression_36d9e4a9bafc', name='regParam', doc='regularization parameter (>= 0)'): 0.0, Param(parent='LogisticRegression_36d9e4a9bafc', name='standardization', doc='whether to standardize the training features before fitting the model'): True, Param(parent='LogisticRegression_36d9e4a9bafc', name='threshold', doc='threshold in binary classification prediction, in range [0, 1]'): 0.5, Param(parent='LogisticRegression_36d9e4a9bafc', name='tol', doc='the convergence tolerance for iterative algorithms (>= 0)'): 1e-06}"
     ]
    }
   ],
   "source": [
    "best_model = cv.bestModel\n",
    "print('best_model:', best_model.extractParamMap())"
   ]
  },
  {
   "cell_type": "markdown",
   "metadata": {},
   "source": [
    "**Summary of the test results for the best logistic regression model**"
   ]
  },
  {
   "cell_type": "code",
   "execution_count": 30,
   "metadata": {},
   "outputs": [
    {
     "data": {
      "application/vnd.jupyter.widget-view+json": {
       "model_id": "84d26c238522475183afcea4fb1313af",
       "version_major": 2,
       "version_minor": 0
      },
      "text/plain": [
       "VBox()"
      ]
     },
     "metadata": {},
     "output_type": "display_data"
    },
    {
     "data": {
      "application/vnd.jupyter.widget-view+json": {
       "model_id": "",
       "version_major": 2,
       "version_minor": 0
      },
      "text/plain": [
       "FloatProgress(value=0.0, bar_style='info', description='Progress:', layout=Layout(height='25px', width='50%'),…"
      ]
     },
     "metadata": {},
     "output_type": "display_data"
    },
    {
     "name": "stdout",
     "output_type": "stream",
     "text": [
      "Training AUC: 0.6889762906547136\n",
      "Test AUC:  0.6888368937700725\n",
      "\n",
      "False positive rate by label (Training):\n",
      "label 0: 0.181458504599408\n",
      "label 1: 0.5223391952590974\n",
      "\n",
      "True positive rate by label (Training):\n",
      "label 0: 0.47766080474090256\n",
      "label 1: 0.8185414954005921\n",
      "\n",
      "Training Accuracy: 0.6481388870494587\n",
      "Test Accuracy:  0.648114267798458"
     ]
    }
   ],
   "source": [
    "# Training Summary Data\n",
    "trainingSummary = best_model.summary\n",
    "evaluationSummary = best_model.evaluate(test)\n",
    "\n",
    "print(\"Training AUC: \" + str(trainingSummary.areaUnderROC))\n",
    "print(\"Test AUC: \", str(evaluationSummary.areaUnderROC))\n",
    "\n",
    "print(\"\\nFalse positive rate by label (Training):\")\n",
    "for i, rate in enumerate(trainingSummary.falsePositiveRateByLabel):\n",
    "    print(\"label %d: %s\" % (i, rate))\n",
    "\n",
    "print(\"\\nTrue positive rate by label (Training):\")\n",
    "for i, rate in enumerate(trainingSummary.truePositiveRateByLabel):\n",
    "    print(\"label %d: %s\" % (i, rate))\n",
    "    \n",
    "print(\"\\nTraining Accuracy: \" + str(trainingSummary.accuracy))\n",
    "print(\"Test Accuracy: \", str(evaluationSummary.accuracy))\n",
    "\n"
   ]
  },
  {
   "cell_type": "markdown",
   "metadata": {},
   "source": [
    "**Plotting the ROC curve (Receiver Operating Characteristic curve)**"
   ]
  },
  {
   "cell_type": "code",
   "execution_count": 31,
   "metadata": {},
   "outputs": [
    {
     "data": {
      "application/vnd.jupyter.widget-view+json": {
       "model_id": "79477483a84a486ca887c232dafc7d85",
       "version_major": 2,
       "version_minor": 0
      },
      "text/plain": [
       "VBox()"
      ]
     },
     "metadata": {},
     "output_type": "display_data"
    },
    {
     "data": {
      "application/vnd.jupyter.widget-view+json": {
       "model_id": "",
       "version_major": 2,
       "version_minor": 0
      },
      "text/plain": [
       "FloatProgress(value=0.0, bar_style='info', description='Progress:', layout=Layout(height='25px', width='50%'),…"
      ]
     },
     "metadata": {},
     "output_type": "display_data"
    }
   ],
   "source": [
    "# Get ROC curve and send it to Pandas so that we can plot it\n",
    "roc_df = evaluationSummary.roc.toPandas()"
   ]
  },
  {
   "cell_type": "code",
   "execution_count": 32,
   "metadata": {},
   "outputs": [
    {
     "data": {
      "application/vnd.jupyter.widget-view+json": {
       "model_id": "6eb3b944b391462e9afdcffbfe8adcd8",
       "version_major": 2,
       "version_minor": 0
      },
      "text/plain": [
       "VBox()"
      ]
     },
     "metadata": {},
     "output_type": "display_data"
    },
    {
     "data": {
      "application/vnd.jupyter.widget-view+json": {
       "model_id": "",
       "version_major": 2,
       "version_minor": 0
      },
      "text/plain": [
       "FloatProgress(value=0.0, bar_style='info', description='Progress:', layout=Layout(height='25px', width='50%'),…"
      ]
     },
     "metadata": {},
     "output_type": "display_data"
    },
    {
     "data": {
      "image/png": "[encoded data removed]",
      "text/plain": [
       "<IPython.core.display.Image object>"
      ]
     },
     "metadata": {},
     "output_type": "display_data"
    }
   ],
   "source": [
    "# Close previous plots; otherwise, will just overwrite and display again\n",
    "plt.close()\n",
    "\n",
    "plt.plot(roc_df.FPR, roc_df.TPR, 'b', label = 'AUC = %0.2f' % evaluationSummary.areaUnderROC)\n",
    "plt.legend(loc = 'lower right')\n",
    "plt.plot([0, 1], [0, 1],'r--')\n",
    "plt.xlim([0, 1])\n",
    "plt.ylim([0, 1])\n",
    "plt.ylabel('True Positive Rate')\n",
    "plt.xlabel('False Positive Rate')\n",
    "plt.title('ROC Curve')\n",
    "plt.show()\n",
    "\n",
    "%matplot plt"
   ]
  },
  {
   "cell_type": "markdown",
   "metadata": {},
   "source": [
    "**Best model with regParam equal to 0, and elasticNetParam equal to 1. As seen above, model works well in identifying label 1, the true positive rate for label 1 is high, around 81 %. However, the model is bad with identifying false positives for label 1 and true positive rates for label 0, both of which are around 50%.**"
   ]
  },
  {
   "cell_type": "markdown",
   "metadata": {},
   "source": [
    "# 5. Scaling up using larger number of m5.xlarge instances"
   ]
  },
  {
   "cell_type": "code",
   "execution_count": null,
   "metadata": {},
   "outputs": [],
   "source": [
    "#question 5"
   ]
  },
  {
   "cell_type": "markdown",
   "metadata": {},
   "source": [
    "**The time to run ML algorithm over AWS using Spark framework and EMR, reduces linearly with an increase in number of m5.xlarge instances. For example, the run time reduced from 44 minutes to around 35 minutes when the number of m5.xlarge instances were icreased from 4 to 6. The running time further reduced from 35 minnutes to 18 when the number of m5.xlarge instances were incrased from 6 to 8. Overall, there was 60% reduction in running time when the number of instances were doubled from 4 to 8.**\n",
    "\n",
    "Note: These running times were calculated for the downsampled data. Here, I first randomly sampled data with frequency 0.20, and then created a balanced subset of good and bad reviews. Moreover, for cross-validation the number of folds were reduced from 5 (original value) to 3 (minimum number of folds allowed). In my opinion, even with subsetting of data and reduced number of folds, the linear dependence of running time over number of m5.xlarge instances is still highlighted as shown in the table below:\n",
    "\n",
    "\n",
    "| Number of m5.xlarge instances | Time (in seconds) |  Approx. Time (in minutes) |\n",
    "| --- | ----------- | ----------- |\n",
    "|8 | 1079.13 | 18 |\n",
    "|6 | 2107.34 | 35 |\n",
    "|4 | 2605.28 | 44 |\n",
    "\n",
    "\n",
    "Spark framework successfully reads the data from AWS S3 and distributes the computing across a large number of clusters. To speed up ML algorithms, we use AWS EMR (ElasticMapReduce) service to launch clusters with multiple instances, that parallelizes ML algorithms effectively. For example, m5.xlarge provides access to 4 vCPUs with 16GIB memory each. Hence, with 8 such instances, we get access to 32 vCPUs, each with 16 GIB memory. This large memory bandwidth alongwith Spark helps in caching data in the memory for larger datasets unlike other clusters.\n",
    "\n",
    "Spark framework efficiently caches datasets in memory, as needed: For ML algorithms like logistic regression we require multiple iterations/passes over the data, so data cached in memory helps in scaling up the running time of the algorithm. Additionally, the pipeline feature of Spark optimizes the distribution of tasks over nodes as it delays any calculation until called for evaluation. Therefore, synchronization of nodes on EMR cluster along with Spark architecture helps remove bottlenecks like caching data in memory, etc. that are often witnessed while scaling up ML algorithms over large scale datasets.\n",
    "\n"
   ]
  },
  {
   "cell_type": "code",
   "execution_count": null,
   "metadata": {},
   "outputs": [],
   "source": []
  }
 ],
 "metadata": {
  "kernelspec": {
   "display_name": "Python 3",
   "language": "python",
   "name": "python3"
  },
  "language_info": {
   "codemirror_mode": {
    "name": "ipython",
    "version": 3
   },
   "file_extension": ".py",
   "mimetype": "text/x-python",
   "name": "python",
   "nbconvert_exporter": "python",
   "pygments_lexer": "ipython3",
   "version": "3.7.1"
  }
 },
 "nbformat": 4,
 "nbformat_minor": 4
}
